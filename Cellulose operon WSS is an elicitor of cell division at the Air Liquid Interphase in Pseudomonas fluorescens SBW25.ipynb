{
 "cells": [
  {
   "cell_type": "markdown",
   "metadata": {
    "slideshow": {
     "slide_type": "-"
    }
   },
   "source": [
    "# Title: Cellulose operon elicits cell division at the Air Liquid Interphase in Pseudomonas fluorescens SBW25\n",
    "\n",
    "## Authors\n",
    "### Andres F Diaz, Tatyana Pichugina, Paul B Rainey\n",
    "### Max Planck Institute for Evolutionary Biology\n",
    "### Ploen - Germany\n",
    "\n",
    "### Abstract\n",
    "\n",
    "Bacterial biofilms formed at the Air Liquid Interphase (ALI) are able to occupy the upper layers of vertically oxygenated water systems, such as ponds and stagnant waters. To colonize the upper layers against gravity, microorganisms rely on aerotaxis and direct their motion towards the liquid surface. It is unknow what follows after bacteria reach the surface yet there is evidence that surface instabilities such as Rayleigh – Taylor (RT) can and promote surface colonization as a product viscous secretions in Pseudomona fluorescens SBW25. How single bacteria maintain a bifilm at the ALI after surface colonization at submicron scales, remains unknown. \n",
    "The production of cellulose as a viscous polymer is controlled by the activity of the wss operon via ci-di-GMP sugnaling and the Wsp pathway. To understand the mechanisms that link cellulose production to ALI colonization, we hypothesize that adsorption time is tightly coordinated with cell division rates thus maintaining and gaining colonized surface at the ALI. \n",
    "To explore this hypothesis, we custom made a device that allows us to explore at a resolution of 200 nm the upper layers of a static microcosm as it forms, and compare the activity of the wss operon in terms of colonization success. \n",
    "Our experiments show that the wss operon besides providing a viscous extracellular matrix for R-T instabilities, act as elicitor of bacterial cell division mediated by ci-di GMP upon surface attachment. Using super-resolution microscopy and ci-diGMP FRET probe we find a direct relation between ci-di GMP concentrations and colonization rates between wss and Δwss mutants.\n",
    "We quantitate and provide a kinetic model that places wss operon as an elicitor of cell division in bacteria via second messenger ci-diGMP during the process of attachment and surface colonization in Pseudomonas fluorescens SBW25.\n",
    "\n"
   ]
  },
  {
   "cell_type": "markdown",
   "metadata": {
    "slideshow": {
     "slide_type": "slide"
    }
   },
   "source": [
    "# Introduction\n",
    "\n",
    "In natural ponds and stagnant water, bacteria can form associations known as biofilms. The extracellular matrix, composed of different types of glue, protects the bacterial community from wind, dehydration, and water currents that threatens biofilm integrity and the bacterial community within. Biofilms provide a shielding matrix of polymeric glue against predation () and hinder the diffusion of toxic molecules such as toxins and antibiotics () or waste products from bacterial adversaries ().  \n",
    "Biofilm growth occurs predominantly in static environments, at the bottom of stagnant water where detritus, rich in nutrients provide sufficient surface area for attachment and a relatively stable environment away from streams and currents that may affect biofilm stability. For a biofilm to grow, the colony growth rate, the amount of nutrients, and bacteria-bacteria contacts are important population parameters to achieve the sustained occupation of a surface (Drescher et al, others colony growth rate) as a community.  \n",
    "Conversely, a type of biofilm forms at the water surface, near the Air Liquid Interphase (ALI) where oxygen is abundant for respiration. In obligate aerobes such as Pseudomonas fluorescens SBW25 growth in static microcosms where there is no agitation at the ALI, a transiently depleted oxygen liquid bulk due to growth, forms an oxygen gradient forcing bacteria to move towards the upper oxygen rich layers in a process calleds aero-taxis. This phenomena described in detail in static microcosms is known to transport Pseudomona fluorescens SBW25 to the upper layers, which eventually due an increase in the viscous partitions the liquid media in two defined phases; a rich bacteria phase at the upper level and a poor bacteria phase at the lower levels. The densified upper layers render a difference in viscosity across them inducing the mixing of both via Rayleigh Taylor flows (Ardre et al), thought to shape the tempo and mode of the ALI colonization \n",
    "The presence of cellulose is essential for the colonization of the ALI controlled by the WSS operon containing genes wssA-J (). In the one hand because cellulose is a very viscous material on the other, because cellulose enhances the stickiness among individuals or any surface. \n",
    "The wss operon encodes enzymes able to polymerize, methylate, and regulate the expression of cellulosic polymers () in conjunction with the Wsp pathway via ci-di-GMP signaling induced over-expression of cellulose (Bantinaki et al 2007) and cellulose over-expression has been found responsible for the wrinky phenotype of  colonies bearing the Wrinkly Spreader (WS) set of mutations in the Wsp pathway. \n",
    "Wrinkly Spreader mutants are more successful by colonizing the ALI than their ancestors in static microcosms letting an oxygen gradient to form \n",
    "so called Smooth Type, forming a thick mat in few hours after inoculation () in static microcosms. Conversely when the two types are put together in shaken cultures, the SM phenotype is more successful at growing than its WS counterpart, showing that the expression of cellulosic polymers confers the scaffolding for WS to take and advantage over its ancestors thus, colonizing the ALI with cellulose glue. \n",
    "Despite the amount of data known on relative fitness among bacteria producing different types of glue, the spatial regulation of cellulose expression at the single cell level remains unknown, mainly due the difficulty to observe at sub micrometer level, the early stages of biofilm formation to study the role of cellulose and spatial regulation of early biofilm formation. \n",
    "To circumvent this problem, we have designed a device that allows us to observe the ALI with an axial resolution of X-Y 100nm Z= 400 nm. Our device provides control of oxygen levels, pressure, humidity and temperature coupled with a super-resolution Airy Scan Microscope, and a Wide Field fast acquisition system. \n",
    "We  using a simple kinetic model of bacteria diffusion, that the regulation of the WSS operon is dual in the sense that it allows adsorption to the surface but also promotes bacteria cell division rate upon attachment. \n"
   ]
  },
  {
   "cell_type": "markdown",
   "metadata": {},
   "source": []
  },
  {
   "cell_type": "markdown",
   "metadata": {},
   "source": [
    "# Materials and Methods\n"
   ]
  },
  {
   "cell_type": "code",
   "execution_count": null,
   "metadata": {
    "collapsed": true
   },
   "outputs": [],
   "source": []
  },
  {
   "cell_type": "markdown",
   "metadata": {},
   "source": [
    "# Results"
   ]
  },
  {
   "cell_type": "markdown",
   "metadata": {},
   "source": [
    "# Discussion"
   ]
  },
  {
   "cell_type": "markdown",
   "metadata": {},
   "source": [
    "# Supplementary 1"
   ]
  },
  {
   "cell_type": "markdown",
   "metadata": {},
   "source": [
    "# Literature\n"
   ]
  },
  {
   "cell_type": "code",
   "execution_count": null,
   "metadata": {
    "collapsed": true
   },
   "outputs": [],
   "source": []
  }
 ],
 "metadata": {
  "celltoolbar": "Slideshow",
  "kernelspec": {
   "display_name": "Python 3",
   "language": "python",
   "name": "python3"
  },
  "language_info": {
   "codemirror_mode": {
    "name": "ipython",
    "version": 3
   },
   "file_extension": ".py",
   "mimetype": "text/x-python",
   "name": "python",
   "nbconvert_exporter": "python",
   "pygments_lexer": "ipython3",
   "version": "3.6.6"
  }
 },
 "nbformat": 4,
 "nbformat_minor": 2
}
